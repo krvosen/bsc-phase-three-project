{
 "cells": [
  {
   "cell_type": "code",
   "execution_count": null,
   "source": [],
   "outputs": [],
   "metadata": {}
  },
  {
   "cell_type": "code",
   "execution_count": 3,
   "source": [
    "!pip install riotwatcher"
   ],
   "outputs": [
    {
     "output_type": "stream",
     "name": "stdout",
     "text": [
      "Requirement already satisfied: riotwatcher in c:\\users\\kylev\\anaconda3\\envs\\learn-env\\lib\\site-packages (3.1.2)\n",
      "Requirement already satisfied: requests in c:\\users\\kylev\\anaconda3\\envs\\learn-env\\lib\\site-packages (from riotwatcher) (2.24.0)\n",
      "Requirement already satisfied: urllib3!=1.25.0,!=1.25.1,<1.26,>=1.21.1 in c:\\users\\kylev\\anaconda3\\envs\\learn-env\\lib\\site-packages (from requests->riotwatcher) (1.25.10)\n",
      "Requirement already satisfied: idna<3,>=2.5 in c:\\users\\kylev\\anaconda3\\envs\\learn-env\\lib\\site-packages (from requests->riotwatcher) (2.10)\n",
      "Requirement already satisfied: certifi>=2017.4.17 in c:\\users\\kylev\\anaconda3\\envs\\learn-env\\lib\\site-packages (from requests->riotwatcher) (2020.6.20)\n",
      "Requirement already satisfied: chardet<4,>=3.0.2 in c:\\users\\kylev\\anaconda3\\envs\\learn-env\\lib\\site-packages (from requests->riotwatcher) (3.0.4)\n"
     ]
    }
   ],
   "metadata": {}
  },
  {
   "cell_type": "code",
   "execution_count": 9,
   "source": [
    "!pip install cassiopeia"
   ],
   "outputs": [
    {
     "output_type": "stream",
     "name": "stdout",
     "text": [
      "Collecting cassiopeia\n",
      "  Downloading cassiopeia-4.0.18-py3-none-any.whl (166 kB)\n",
      "Collecting datapipelines>=1.0.7\n",
      "  Downloading datapipelines-1.0.7.tar.gz (19 kB)\n",
      "Requirement already satisfied: requests in c:\\users\\kylev\\anaconda3\\envs\\learn-env\\lib\\site-packages (from cassiopeia) (2.24.0)\n",
      "Collecting merakicommons>=1.0.10\n",
      "  Downloading merakicommons-1.0.10-py3-none-any.whl (17 kB)\n",
      "Collecting arrow<1.0.0\n",
      "  Downloading arrow-0.17.0-py2.py3-none-any.whl (50 kB)\n",
      "Requirement already satisfied: Pillow in c:\\users\\kylev\\anaconda3\\envs\\learn-env\\lib\\site-packages (from cassiopeia) (8.0.0)\n",
      "Requirement already satisfied: networkx in c:\\users\\kylev\\anaconda3\\envs\\learn-env\\lib\\site-packages (from datapipelines>=1.0.7->cassiopeia) (2.5.1)\n",
      "Requirement already satisfied: urllib3!=1.25.0,!=1.25.1,<1.26,>=1.21.1 in c:\\users\\kylev\\anaconda3\\envs\\learn-env\\lib\\site-packages (from requests->cassiopeia) (1.25.10)\n",
      "Requirement already satisfied: chardet<4,>=3.0.2 in c:\\users\\kylev\\anaconda3\\envs\\learn-env\\lib\\site-packages (from requests->cassiopeia) (3.0.4)\n",
      "Requirement already satisfied: certifi>=2017.4.17 in c:\\users\\kylev\\anaconda3\\envs\\learn-env\\lib\\site-packages (from requests->cassiopeia) (2020.6.20)\n",
      "Requirement already satisfied: idna<3,>=2.5 in c:\\users\\kylev\\anaconda3\\envs\\learn-env\\lib\\site-packages (from requests->cassiopeia) (2.10)\n",
      "Requirement already satisfied: python-dateutil>=2.7.0 in c:\\users\\kylev\\anaconda3\\envs\\learn-env\\lib\\site-packages (from arrow<1.0.0->cassiopeia) (2.8.1)\n",
      "Requirement already satisfied: decorator<5,>=4.3 in c:\\users\\kylev\\anaconda3\\envs\\learn-env\\lib\\site-packages (from networkx->datapipelines>=1.0.7->cassiopeia) (4.4.2)\n",
      "Requirement already satisfied: six>=1.5 in c:\\users\\kylev\\anaconda3\\envs\\learn-env\\lib\\site-packages (from python-dateutil>=2.7.0->arrow<1.0.0->cassiopeia) (1.15.0)\n",
      "Building wheels for collected packages: datapipelines\n",
      "  Building wheel for datapipelines (setup.py): started\n",
      "  Building wheel for datapipelines (setup.py): finished with status 'done'\n",
      "  Created wheel for datapipelines: filename=datapipelines-1.0.7-py3-none-any.whl size=23213 sha256=bc410de1d7fa07fa1756c3c8b9c4cc92aaf25332abdfde6b846d6e4c13e4d80a\n",
      "  Stored in directory: c:\\users\\kylev\\appdata\\local\\pip\\cache\\wheels\\a5\\ba\\bf\\09aed39441b2cccedf5513f97b7874313a731ad6ab9be9c268\n",
      "Successfully built datapipelines\n",
      "Installing collected packages: merakicommons, datapipelines, arrow, cassiopeia\n",
      "Successfully installed arrow-0.17.0 cassiopeia-4.0.18 datapipelines-1.0.7 merakicommons-1.0.10\n"
     ]
    }
   ],
   "metadata": {}
  },
  {
   "cell_type": "code",
   "execution_count": 12,
   "source": [
    "import random\r\n",
    "\r\n",
    "import cassiopeia as cass\r\n",
    "\r\n",
    "cass.set_riot_api_key(\"RGAPI-5e1856a1-80a8-431f-9973-95169c3e1779\")  # This overrides the value set in your configuration/settings.\r\n",
    "cass.set_default_region(\"NA\")\r\n",
    "\r\n",
    "summoner = cass.get_summoner(name=\"Kalturi\")\r\n",
    "print(\"{name} is a level {level} summoner on the {region} server.\".format(name=summoner.name,\r\n",
    "                                                                          level=summoner.level,\r\n",
    "                                                                          region=summoner.region))\r\n",
    "\r\n",
    "champions = cass.get_champions()\r\n",
    "random_champion = random.choice(champions)\r\n",
    "print(\"He enjoys playing champions such as {name}.\".format(name=random_champion.name))\r\n",
    "\r\n",
    "challenger_league = cass.get_challenger_league(queue=cass.Queue.ranked_solo_fives)\r\n",
    "best_na = challenger_league[0].summoner\r\n",
    "print(\"He's not as good as {name} at League, but probably a better python programmer!\".format(name=best_na.name))\r\n"
   ],
   "outputs": [
    {
     "output_type": "stream",
     "name": "stdout",
     "text": [
      "Kalturi is a level 151 summoner on the Region.north_america server.\n",
      "He enjoys playing champions such as Rell.\n",
      "He's not as good as TwitchTv Jugttv at League, but probably a better python programmer!\n"
     ]
    }
   ],
   "metadata": {}
  },
  {
   "cell_type": "code",
   "execution_count": null,
   "source": [],
   "outputs": [],
   "metadata": {}
  }
 ],
 "metadata": {
  "orig_nbformat": 4,
  "language_info": {
   "name": "python"
  }
 },
 "nbformat": 4,
 "nbformat_minor": 2
}